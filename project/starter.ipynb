{
 "cells": [
  {
   "cell_type": "markdown",
   "metadata": {},
   "source": [
    "# Deploy and monitor a machine learning workflow for Image Classification"
   ]
  },
  {
   "cell_type": "markdown",
   "metadata": {},
   "source": [
    "## Setting up this notebook\n",
    "\n",
    "Notes about the instance size and kernel setup: this notebook has been tested on\n",
    "\n",
    "1. The `Python 3 (Data Science)` kernel\n",
    "2. The `ml.t3.medium` Sagemaker notebook instance\n",
    "\n",
    "## Data Staging\n",
    "\n",
    "We'll use a sample dataset called CIFAR to simulate the challenges Scones Unlimited are facing in Image Classification. In order to start working with CIFAR we'll need to:\n",
    "\n",
    "1. Extract the data from a hosting service\n",
    "2. Transform it into a usable shape and format\n",
    "3. Load it into a production system\n",
    "\n",
    "In other words, we're going to do some simple ETL!\n",
    "\n",
    "### 1. Extract the data from the hosting service\n",
    "\n",
    "In the cell below, define a function `extract_cifar_data` that extracts python version of the CIFAR-100 dataset. The CIFAR dataaset is open source and generously hosted by the University of Toronto at: https://www.cs.toronto.edu/~kriz/cifar-100-python.tar.gz "
   ]
  },
  {
   "cell_type": "code",
   "execution_count": null,
   "metadata": {
    "tags": []
   },
   "outputs": [],
   "source": [
    "import requests\n",
    "\n",
    "def extract_cifar_data(url, filename=\"cifar.tar.gz\"):\n",
    "    \"\"\"A function for extracting the CIFAR-100 dataset and storing it as a gzipped file\n",
    "    \n",
    "    Arguments:\n",
    "    url      -- the URL where the dataset is hosted\n",
    "    filename -- the full path where the dataset will be written\n",
    "    \n",
    "    \"\"\"\n",
    "    \n",
    "    # Todo: request the data from the data url\n",
    "    # Hint: use `requests.get` method\n",
    "    r = requests.get(url)\n",
    "    with open(filename, \"wb\") as file_context:\n",
    "        file_context.write(r.content)\n",
    "    return"
   ]
  },
  {
   "cell_type": "markdown",
   "metadata": {},
   "source": [
    "Let's test it out! Run the following cell and check whether a new file `cifar.tar.gz` is created in the file explorer."
   ]
  },
  {
   "cell_type": "code",
   "execution_count": null,
   "metadata": {
    "tags": []
   },
   "outputs": [],
   "source": [
    "extract_cifar_data(\"https://www.cs.toronto.edu/~kriz/cifar-100-python.tar.gz\")     "
   ]
  },
  {
   "cell_type": "markdown",
   "metadata": {},
   "source": [
    "### 2. Transform the data into a usable shape and format\n",
    "\n",
    "Clearly, distributing the data as a gzipped archive makes sense for the hosting service! It saves on bandwidth, storage, and it's a widely-used archive format. In fact, it's so widely used that the Python community ships a utility for working with them, `tarfile`, as part of its Standard Library. Execute the following cell to decompress your extracted dataset:"
   ]
  },
  {
   "cell_type": "code",
   "execution_count": null,
   "metadata": {
    "tags": []
   },
   "outputs": [],
   "source": [
    "import tarfile\n",
    "\n",
    "with tarfile.open(\"cifar.tar.gz\", \"r:gz\") as tar:\n",
    "    tar.extractall()"
   ]
  },
  {
   "cell_type": "markdown",
   "metadata": {},
   "source": [
    "A new folder `cifar-100-python` should be created, containing `meta`, `test`, and `train` files. These files are `pickles` and the [CIFAR homepage](https://www.cs.toronto.edu/~kriz/cifar.html) provides a simple script that can be used to load them. We've adapted the script below for you to run:"
   ]
  },
  {
   "cell_type": "code",
   "execution_count": 2,
   "metadata": {
    "tags": []
   },
   "outputs": [],
   "source": [
    "import pickle\n",
    "\n",
    "with open(\"./cifar-100-python/meta\", \"rb\") as f:\n",
    "    dataset_meta = pickle.load(f, encoding='bytes')\n",
    "\n",
    "with open(\"./cifar-100-python/test\", \"rb\") as f:\n",
    "    dataset_test = pickle.load(f, encoding='bytes')\n",
    "\n",
    "with open(\"./cifar-100-python/train\", \"rb\") as f:\n",
    "    dataset_train = pickle.load(f, encoding='bytes')"
   ]
  },
  {
   "cell_type": "code",
   "execution_count": 3,
   "metadata": {
    "tags": []
   },
   "outputs": [
    {
     "data": {
      "text/plain": [
       "dict_keys([b'filenames', b'batch_label', b'fine_labels', b'coarse_labels', b'data'])"
      ]
     },
     "execution_count": 3,
     "metadata": {},
     "output_type": "execute_result"
    }
   ],
   "source": [
    "# Feel free to explore the datasets\n",
    "\n",
    "dataset_train.keys()"
   ]
  },
  {
   "cell_type": "markdown",
   "metadata": {},
   "source": [
    "As documented on the homepage, `b'data'` contains rows of 3073 unsigned integers, representing three channels (red, green, and blue) for one 32x32 pixel image per row."
   ]
  },
  {
   "cell_type": "code",
   "execution_count": 20,
   "metadata": {
    "tags": []
   },
   "outputs": [
    {
     "data": {
      "text/plain": [
       "3072"
      ]
     },
     "execution_count": 20,
     "metadata": {},
     "output_type": "execute_result"
    }
   ],
   "source": [
    "32*32*3"
   ]
  },
  {
   "cell_type": "markdown",
   "metadata": {},
   "source": [
    "For a simple gut-check, let's transform one of our images. Each 1024 items in a row is a channel (red, green, then blue). Each 32 items in the channel are a row in the 32x32 image. Using python, we can stack these channels into a 32x32x3 array, and save it as a PNG file:"
   ]
  },
  {
   "cell_type": "code",
   "execution_count": 21,
   "metadata": {
    "tags": []
   },
   "outputs": [],
   "source": [
    "import numpy as np\n",
    "\n",
    "# Each 1024 in a row is a channel (red, green, then blue)\n",
    "row = dataset_train[b'data'][0]\n",
    "red, green, blue = row[0:1024], row[1024:2048], row[2048:]\n",
    "\n",
    "# Each 32 items in the channel are a row in the 32x32 image\n",
    "red = red.reshape(32,32)\n",
    "green = green.reshape(32,32)\n",
    "blue = blue.reshape(32,32)\n",
    "\n",
    "# Combine the channels into a 32x32x3 image!\n",
    "combined = np.dstack((red,green,blue))"
   ]
  },
  {
   "cell_type": "markdown",
   "metadata": {},
   "source": [
    "For a more concise version, consider the following:"
   ]
  },
  {
   "cell_type": "code",
   "execution_count": 22,
   "metadata": {
    "tags": []
   },
   "outputs": [],
   "source": [
    "# All in one:\n",
    "test_image = np.dstack((\n",
    "    row[0:1024].reshape(32,32),\n",
    "    row[1024:2048].reshape(32,32),\n",
    "    row[2048:].reshape(32,32)\n",
    "))"
   ]
  },
  {
   "cell_type": "code",
   "execution_count": 23,
   "metadata": {
    "tags": []
   },
   "outputs": [],
   "source": [
    "import matplotlib.pyplot as plt\n",
    "plt.imshow(test_image);"
   ]
  },
  {
   "cell_type": "markdown",
   "metadata": {},
   "source": [
    "Looks like a cow! Let's check the label. `dataset_meta` contains label names in order, and `dataset_train` has a list of labels for each row."
   ]
  },
  {
   "cell_type": "code",
   "execution_count": 24,
   "metadata": {
    "tags": []
   },
   "outputs": [
    {
     "data": {
      "text/plain": [
       "19"
      ]
     },
     "execution_count": 24,
     "metadata": {},
     "output_type": "execute_result"
    }
   ],
   "source": [
    "dataset_train[b'fine_labels'][0]"
   ]
  },
  {
   "cell_type": "markdown",
   "metadata": {},
   "source": [
    "Our image has a label of `19`, so let's see what the 19th item is in the list of label names."
   ]
  },
  {
   "cell_type": "code",
   "execution_count": 25,
   "metadata": {
    "tags": []
   },
   "outputs": [
    {
     "name": "stdout",
     "output_type": "stream",
     "text": [
      "b'cattle'\n"
     ]
    }
   ],
   "source": [
    "print(dataset_meta[b'fine_label_names'][19])"
   ]
  },
  {
   "cell_type": "markdown",
   "metadata": {},
   "source": [
    "Ok! 'cattle' sounds about right. By the way, using the previous two lines we can do:"
   ]
  },
  {
   "cell_type": "code",
   "execution_count": 26,
   "metadata": {
    "tags": []
   },
   "outputs": [
    {
     "name": "stdout",
     "output_type": "stream",
     "text": [
      "b'cattle'\n"
     ]
    }
   ],
   "source": [
    "n = 0\n",
    "print(dataset_meta[b'fine_label_names'][dataset_train[b'fine_labels'][n]])"
   ]
  },
  {
   "cell_type": "markdown",
   "metadata": {},
   "source": [
    "Now we know how to check labels, is there a way that we can also check file names? `dataset_train` also contains a `b'filenames'` key. Let's see what we have here:"
   ]
  },
  {
   "cell_type": "code",
   "execution_count": 27,
   "metadata": {
    "tags": []
   },
   "outputs": [
    {
     "name": "stdout",
     "output_type": "stream",
     "text": [
      "b'bos_taurus_s_000507.png'\n"
     ]
    }
   ],
   "source": [
    "print(dataset_train[b'filenames'][0])"
   ]
  },
  {
   "cell_type": "markdown",
   "metadata": {
    "tags": []
   },
   "source": [
    "\"Taurus\" is the name of a subspecies of cattle, so this looks like a pretty reasonable filename. To save an image we can also do:"
   ]
  },
  {
   "cell_type": "code",
   "execution_count": null,
   "metadata": {
    "tags": []
   },
   "outputs": [],
   "source": [
    "plt.imsave(\"file.png\", test_image)"
   ]
  },
  {
   "cell_type": "markdown",
   "metadata": {},
   "source": [
    "Your new PNG file should now appear in the file explorer -- go ahead and pop it open to see!\n",
    "\n",
    "Now that you know how to reshape the images, save them as files, and capture their filenames and labels, let's just capture all the bicycles and motorcycles and save them. Scones Unlimited can use a model that tells these apart to route delivery drivers automatically.\n",
    "\n",
    "In the following cell, identify the label numbers for Bicycles and Motorcycles:"
   ]
  },
  {
   "cell_type": "code",
   "execution_count": null,
   "metadata": {
    "tags": []
   },
   "outputs": [],
   "source": [
    "#import re\n",
    "#reg = re.compile(rb'bicycle|motorcycle') \n",
    "#bikes_motorcycle_filenames = list(filter(reg.search, dataset_train[b'filenames']))\n",
    "#print(bikes_motorcycle_filenames)"
   ]
  },
  {
   "cell_type": "code",
   "execution_count": 4,
   "metadata": {
    "tags": []
   },
   "outputs": [
    {
     "name": "stdout",
     "output_type": "stream",
     "text": [
      "[48, 8, 48, 48, 48, 8, 48, 8, 8, 8, 48, 8, 48, 48, 8, 48, 8, 8, 48, 48, 48, 8, 8, 48, 8, 48, 8, 8, 48, 8, 48, 8, 8, 8, 48, 48, 8, 8, 8, 8, 8, 48, 8, 48, 48, 8, 8, 8, 48, 8, 8, 48, 8, 8, 8, 8, 48, 48, 8, 48, 8, 8, 48, 48, 48, 48, 48, 8, 8, 8, 8, 48, 8, 8, 8, 8, 48, 48, 48, 8, 8, 48, 8, 48, 8, 8, 48, 48, 48, 8, 48, 48, 8, 48, 8, 8, 48, 48, 48, 8, 8, 8, 8, 8, 48, 48, 8, 48, 8, 8, 8, 8, 48, 48, 48, 48, 48, 8, 8, 48, 8, 8, 8, 48, 8, 48, 8, 8, 8, 48, 8, 48, 48, 48, 48, 8, 48, 8, 48, 48, 8, 48, 8, 48, 8, 48, 48, 8, 48, 8, 8, 48, 48, 48, 8, 8, 48, 8, 48, 8, 8, 48, 48, 8, 48, 48, 48, 48, 8, 8, 48, 8, 8, 8, 8, 48, 48, 48, 48, 8, 8, 48, 48, 8, 8, 8, 48, 8, 8, 48, 8, 48, 48, 8, 8, 48, 48, 48, 48, 48, 8, 48, 48, 8, 48, 48, 48, 8, 48, 48, 48, 48, 8, 8, 48, 48, 8, 48, 8, 8, 8, 48, 8, 48, 48, 48, 48, 8, 8, 8, 8, 8, 48, 48, 8, 48, 48, 8, 48, 48, 48, 48, 8, 8, 8, 8, 48, 48, 48, 8, 48, 48, 48, 48, 8, 48, 48, 48, 48, 8, 8, 48, 8, 8, 48, 8, 8, 48, 48, 8, 48, 8, 48, 8, 8, 8, 8, 8, 48, 8, 8, 48, 8, 48, 48, 48, 48, 48, 48, 48, 48, 48, 48, 48, 48, 48, 48, 8, 8, 8, 48, 8, 8, 8, 48, 48, 48, 8, 48, 48, 8, 8, 8, 48, 8, 48, 48, 48, 8, 8, 8, 48, 8, 8, 48, 8, 8, 8, 8, 48, 48, 48, 48, 8, 48, 8, 8, 8, 48, 8, 48, 8, 48, 8, 48, 48, 8, 48, 48, 48, 8, 48, 8, 48, 48, 8, 48, 48, 8, 8, 8, 8, 48, 48, 8, 8, 8, 8, 48, 48, 48, 48, 48, 8, 48, 8, 48, 48, 8, 8, 48, 48, 8, 48, 48, 8, 48, 8, 8, 48, 48, 48, 8, 8, 8, 48, 8, 8, 48, 48, 8, 8, 8, 8, 8, 48, 48, 48, 8, 48, 8, 48, 48, 8, 48, 48, 8, 48, 8, 8, 8, 48, 48, 8, 48, 48, 48, 8, 8, 48, 8, 48, 48, 8, 48, 8, 8, 48, 8, 8, 8, 8, 48, 8, 48, 8, 8, 48, 8, 8, 8, 8, 48, 48, 48, 48, 48, 8, 48, 48, 8, 48, 48, 8, 48, 8, 48, 48, 48, 8, 8, 8, 48, 8, 8, 48, 8, 48, 48, 48, 48, 48, 8, 8, 48, 8, 48, 48, 48, 8, 8, 48, 48, 48, 48, 48, 48, 8, 48, 48, 48, 48, 48]\n"
     ]
    }
   ],
   "source": [
    "import pandas as pd\n",
    "import re\n",
    "\n",
    "reg = re.compile(rb'bicycle|motorcycle')\n",
    "bikes_motorcycle_labels = []\n",
    "\n",
    "# Todo: Filter the dataset_train and dataset_meta objects to find the label numbers for Bicycle and Motorcycles\n",
    "for index, filename in enumerate(dataset_train[b'filenames']):\n",
    "    if re.search(reg, filename):\n",
    "        bikes_motorcycle_labels.append(dataset_train[b'fine_labels'][index])\n",
    "        \n",
    "print(bikes_motorcycle_labels)       \n",
    "\n"
   ]
  },
  {
   "cell_type": "markdown",
   "metadata": {},
   "source": [
    "Good job! We only need objects with label 8 and 48 -- this drastically simplifies our handling of the data! Below we construct a dataframe for you, and you can safely drop the rows that don't contain observations about bicycles and motorcycles. Fill in the missing lines below to drop all other rows:"
   ]
  },
  {
   "cell_type": "code",
   "execution_count": 49,
   "metadata": {
    "tags": []
   },
   "outputs": [
    {
     "data": {
      "text/plain": [
       "filenames    object\n",
       "labels        int64\n",
       "row           int64\n",
       "dtype: object"
      ]
     },
     "execution_count": 49,
     "metadata": {},
     "output_type": "execute_result"
    }
   ],
   "source": [
    "df_train = pd.DataFrame({\n",
    "    \"filenames\": dataset_train[b'filenames'],\n",
    "    \"labels\": dataset_train[b'fine_labels'],\n",
    "    \"row\": range(len(dataset_train[b'filenames']))\n",
    "})\n",
    "df_train.dtypes"
   ]
  },
  {
   "cell_type": "code",
   "execution_count": 5,
   "metadata": {
    "tags": []
   },
   "outputs": [
    {
     "data": {
      "text/html": [
       "<div>\n",
       "<style scoped>\n",
       "    .dataframe tbody tr th:only-of-type {\n",
       "        vertical-align: middle;\n",
       "    }\n",
       "\n",
       "    .dataframe tbody tr th {\n",
       "        vertical-align: top;\n",
       "    }\n",
       "\n",
       "    .dataframe thead th {\n",
       "        text-align: right;\n",
       "    }\n",
       "</style>\n",
       "<table border=\"1\" class=\"dataframe\">\n",
       "  <thead>\n",
       "    <tr style=\"text-align: right;\">\n",
       "      <th></th>\n",
       "      <th>filenames</th>\n",
       "      <th>labels</th>\n",
       "      <th>row</th>\n",
       "    </tr>\n",
       "  </thead>\n",
       "  <tbody>\n",
       "    <tr>\n",
       "      <th>16</th>\n",
       "      <td>bike_s_000682.png</td>\n",
       "      <td>8</td>\n",
       "      <td>16</td>\n",
       "    </tr>\n",
       "    <tr>\n",
       "      <th>30</th>\n",
       "      <td>bike_s_000127.png</td>\n",
       "      <td>8</td>\n",
       "      <td>30</td>\n",
       "    </tr>\n",
       "    <tr>\n",
       "      <th>130</th>\n",
       "      <td>cycle_s_002598.png</td>\n",
       "      <td>8</td>\n",
       "      <td>130</td>\n",
       "    </tr>\n",
       "    <tr>\n",
       "      <th>152</th>\n",
       "      <td>minibike_s_000824.png</td>\n",
       "      <td>48</td>\n",
       "      <td>152</td>\n",
       "    </tr>\n",
       "    <tr>\n",
       "      <th>195</th>\n",
       "      <td>motorcycle_s_001856.png</td>\n",
       "      <td>48</td>\n",
       "      <td>195</td>\n",
       "    </tr>\n",
       "  </tbody>\n",
       "</table>\n",
       "</div>"
      ],
      "text/plain": [
       "                   filenames  labels  row\n",
       "16         bike_s_000682.png       8   16\n",
       "30         bike_s_000127.png       8   30\n",
       "130       cycle_s_002598.png       8  130\n",
       "152    minibike_s_000824.png      48  152\n",
       "195  motorcycle_s_001856.png      48  195"
      ]
     },
     "execution_count": 5,
     "metadata": {},
     "output_type": "execute_result"
    }
   ],
   "source": [
    "df_train = pd.DataFrame({\n",
    "    \"filenames\": dataset_train[b'filenames'],\n",
    "    \"labels\": dataset_train[b'fine_labels'],\n",
    "    \"row\": range(len(dataset_train[b'filenames']))\n",
    "})\n",
    "\n",
    "# Drop all rows from df_train where label is not 8 or 48\n",
    "df_train.drop(df_train[(df_train['labels'] != 8) & (df_train['labels'] != 48)].index, inplace=True)\n",
    "\n",
    "# Decode df_train.filenames so they are regular strings\n",
    "df_train[\"filenames\"] = df_train[\"filenames\"].apply(\n",
    "    lambda x: x.decode(\"utf-8\")\n",
    ")\n",
    "df_train.head(5)"
   ]
  },
  {
   "cell_type": "code",
   "execution_count": 7,
   "metadata": {
    "tags": []
   },
   "outputs": [
    {
     "data": {
      "text/html": [
       "<div>\n",
       "<style scoped>\n",
       "    .dataframe tbody tr th:only-of-type {\n",
       "        vertical-align: middle;\n",
       "    }\n",
       "\n",
       "    .dataframe tbody tr th {\n",
       "        vertical-align: top;\n",
       "    }\n",
       "\n",
       "    .dataframe thead th {\n",
       "        text-align: right;\n",
       "    }\n",
       "</style>\n",
       "<table border=\"1\" class=\"dataframe\">\n",
       "  <thead>\n",
       "    <tr style=\"text-align: right;\">\n",
       "      <th></th>\n",
       "      <th>filenames</th>\n",
       "      <th>labels</th>\n",
       "      <th>row</th>\n",
       "    </tr>\n",
       "  </thead>\n",
       "  <tbody>\n",
       "    <tr>\n",
       "      <th>27</th>\n",
       "      <td>safety_bike_s_000390.png</td>\n",
       "      <td>8</td>\n",
       "      <td>27</td>\n",
       "    </tr>\n",
       "    <tr>\n",
       "      <th>28</th>\n",
       "      <td>bike_s_000658.png</td>\n",
       "      <td>8</td>\n",
       "      <td>28</td>\n",
       "    </tr>\n",
       "    <tr>\n",
       "      <th>116</th>\n",
       "      <td>velocipede_s_001744.png</td>\n",
       "      <td>8</td>\n",
       "      <td>116</td>\n",
       "    </tr>\n",
       "    <tr>\n",
       "      <th>161</th>\n",
       "      <td>bike_s_000643.png</td>\n",
       "      <td>8</td>\n",
       "      <td>161</td>\n",
       "    </tr>\n",
       "    <tr>\n",
       "      <th>319</th>\n",
       "      <td>ordinary_bicycle_s_000437.png</td>\n",
       "      <td>8</td>\n",
       "      <td>319</td>\n",
       "    </tr>\n",
       "  </tbody>\n",
       "</table>\n",
       "</div>"
      ],
      "text/plain": [
       "                         filenames  labels  row\n",
       "27        safety_bike_s_000390.png       8   27\n",
       "28               bike_s_000658.png       8   28\n",
       "116        velocipede_s_001744.png       8  116\n",
       "161              bike_s_000643.png       8  161\n",
       "319  ordinary_bicycle_s_000437.png       8  319"
      ]
     },
     "execution_count": 7,
     "metadata": {},
     "output_type": "execute_result"
    }
   ],
   "source": [
    "df_test = pd.DataFrame({\n",
    "    \"filenames\": dataset_test[b'filenames'],\n",
    "    \"labels\": dataset_test[b'fine_labels'],\n",
    "    \"row\": range(len(dataset_test[b'filenames']))\n",
    "})\n",
    "# Drop all rows from df_train where label is not 8 or 48\n",
    "df_test.drop(df_test[(df_test['labels'] != 8) & (df_test['labels'] != 48)].index, inplace=True)\n",
    "\n",
    "# Decode df_test.filenames so they are regular strings\n",
    "df_test[\"filenames\"] = df_test[\"filenames\"].apply(\n",
    "    lambda x: x.decode(\"utf-8\")\n",
    ")\n",
    "\n",
    "\n",
    "df_test.head(5)"
   ]
  },
  {
   "cell_type": "markdown",
   "metadata": {},
   "source": [
    "Now that the data is filtered for just our classes, we can save all our images."
   ]
  },
  {
   "cell_type": "code",
   "execution_count": null,
   "metadata": {
    "tags": []
   },
   "outputs": [],
   "source": [
    "!mkdir ./train\n",
    "!mkdir ./test"
   ]
  },
  {
   "cell_type": "markdown",
   "metadata": {},
   "source": [
    "In the previous sections we introduced you to several key snippets of code:\n",
    "\n",
    "1. Grabbing the image data:\n",
    "\n",
    "```python\n",
    "dataset_train[b'data'][0]\n",
    "```\n",
    "\n",
    "2. A simple idiom for stacking the image data into the right shape\n",
    "\n",
    "```python\n",
    "import numpy as np\n",
    "np.dstack((\n",
    "    row[0:1024].reshape(32,32),\n",
    "    row[1024:2048].reshape(32,32),\n",
    "    row[2048:].reshape(32,32)\n",
    "))\n",
    "```\n",
    "\n",
    "3. A simple `matplotlib` utility for saving images\n",
    "\n",
    "```python\n",
    "plt.imsave(path+row['filenames'], target)\n",
    "```\n",
    "\n",
    "Compose these together into a function that saves all the images into the `./test` and `./train` directories. Use the comments in the body of the `save_images` function below to guide your construction of the function:\n"
   ]
  },
  {
   "cell_type": "code",
   "execution_count": null,
   "metadata": {},
   "outputs": [],
   "source": [
    "def save_images(data_container, path):\n",
    "    for index, item in enumerate(data_container[b'filenames']):\n",
    "        #Grab the image data in row-major form\n",
    "        img = data_container[b'data'][index]\n",
    "        \n",
    "        # Consolidated stacking/reshaping from earlier\n",
    "        target = np.dstack((\n",
    "                img[0:1024].reshape(32,32),\n",
    "                img[1024:2048].reshape(32,32),\n",
    "                img[2048:].reshape(32,32)\n",
    "            ))\n",
    "    \n",
    "        # Save the image\n",
    "        image_name = data_container[b'filenames'][index].decode(\"utf-8\")\n",
    "        plt.imsave(f\"./{path}/{image_name}\", target)\n",
    "        \n",
    "    # Return any signal data you want for debugging\n",
    "    return\n",
    "\n",
    "## TODO: save ALL images using the save_images function\n",
    "save_images(dataset_train, 'train')\n",
    "save_images(dataset_test, 'test')"
   ]
  },
  {
   "cell_type": "markdown",
   "metadata": {},
   "source": [
    "### 3. Load the data\n",
    "\n",
    "Now we can load the data into S3.\n",
    "\n",
    "Using the sagemaker SDK grab the current region, execution role, and bucket."
   ]
  },
  {
   "cell_type": "code",
   "execution_count": 10,
   "metadata": {},
   "outputs": [
    {
     "name": "stdout",
     "output_type": "stream",
     "text": [
      "Default Bucket: sagemaker-us-east-1-748574374819\n",
      "AWS Region: us-east-1\n",
      "RoleArn: arn:aws:iam::748574374819:role/service-role/AmazonSageMaker-ExecutionRole-20230110T073249\n"
     ]
    }
   ],
   "source": [
    "from sagemaker import get_execution_role\n",
    "\n",
    "\n",
    "bucket= 'sagemaker-us-east-1-748574374819'\n",
    "print(\"Default Bucket: {}\".format(bucket))\n",
    "\n",
    "region = 'us-east-1'\n",
    "print(\"AWS Region: {}\".format(region))\n",
    "\n",
    "role =  get_execution_role()\n",
    "print(\"RoleArn: {}\".format(role))"
   ]
  },
  {
   "cell_type": "markdown",
   "metadata": {},
   "source": [
    "With this data we can easily sync your data up into S3!"
   ]
  },
  {
   "cell_type": "code",
   "execution_count": null,
   "metadata": {},
   "outputs": [],
   "source": [
    "import os\n",
    "\n",
    "os.environ[\"DEFAULT_S3_BUCKET\"] = bucket\n",
    "!aws s3 sync ./train s3://${DEFAULT_S3_BUCKET}/train/\n",
    "!aws s3 sync ./test s3://${DEFAULT_S3_BUCKET}/test/"
   ]
  },
  {
   "cell_type": "markdown",
   "metadata": {},
   "source": [
    "And that's it! You can check the bucket and verify that the items were uploaded.\n",
    "\n",
    "## Model Training\n",
    "\n",
    "For Image Classification, Sagemaker [also expects metadata](https://docs.aws.amazon.com/sagemaker/latest/dg/image-classification.html) e.g. in the form of TSV files with labels and filepaths. We can generate these using our Pandas DataFrames from earlier:"
   ]
  },
  {
   "cell_type": "code",
   "execution_count": 8,
   "metadata": {},
   "outputs": [],
   "source": [
    "def to_metadata_file(df, prefix):\n",
    "    df[\"s3_path\"] = df[\"filenames\"]\n",
    "    df[\"labels\"] = df[\"labels\"].apply(lambda x: 0 if x==8 else 1)\n",
    "    return df[[\"row\", \"labels\", \"s3_path\"]].to_csv(\n",
    "        f\"{prefix}.lst\", sep=\"\\t\", index=False, header=False\n",
    "    )\n",
    "    \n",
    "to_metadata_file(df_train.copy(), \"train\")\n",
    "to_metadata_file(df_test.copy(), \"test\")"
   ]
  },
  {
   "cell_type": "markdown",
   "metadata": {},
   "source": [
    "We can also upload our manifest files:"
   ]
  },
  {
   "cell_type": "code",
   "execution_count": 11,
   "metadata": {},
   "outputs": [],
   "source": [
    "import boto3\n",
    "\n",
    "# Upload files\n",
    "boto3.Session().resource('s3').Bucket(\n",
    "    bucket).Object('train.lst').upload_file('./train.lst')\n",
    "boto3.Session().resource('s3').Bucket(\n",
    "    bucket).Object('test.lst').upload_file('./test.lst')"
   ]
  },
  {
   "cell_type": "markdown",
   "metadata": {},
   "source": [
    "Using the `bucket` and `region` info we can get the latest prebuilt container to run our training job, and define an output location on our s3 bucket for the model. Use the `image_uris` function from the SageMaker SDK to retrieve the latest `image-classification` image below:"
   ]
  },
  {
   "cell_type": "code",
   "execution_count": 14,
   "metadata": {},
   "outputs": [
    {
     "name": "stderr",
     "output_type": "stream",
     "text": [
      "Defaulting to the only supported framework/algorithm version: 1. Ignoring framework/algorithm version: latest.\n"
     ]
    },
    {
     "name": "stdout",
     "output_type": "stream",
     "text": [
      "811284229777.dkr.ecr.us-east-1.amazonaws.com/image-classification:1\n"
     ]
    }
   ],
   "source": [
    "\n",
    "from sagemaker import image_uris\n",
    "# Use the image_uris function to retrieve the latest 'image-classification' image \n",
    "algo_image = image_uris.retrieve(framework=\"image-classification\",\n",
    "                                 region=region, version=\"latest\")\n",
    "s3_output_location = f\"s3://{bucket}/models/image_model\"\n",
    "print(algo_image)"
   ]
  },
  {
   "cell_type": "markdown",
   "metadata": {},
   "source": [
    "We're ready to create an estimator! Create an estimator `img_classifier_model` that uses one instance of `ml.p3.2xlarge`. Ensure that y ou use the output location we defined above - we'll be referring to that later!"
   ]
  },
  {
   "cell_type": "code",
   "execution_count": 19,
   "metadata": {},
   "outputs": [],
   "source": [
    "from sagemaker import Session\n",
    "from sagemaker import estimator\n",
    "\n",
    "img_classifier_model=estimator.Estimator(\n",
    "    image_uri=algo_image,\n",
    "    role=role,\n",
    "    instance_count=1,\n",
    "    instance_type='ml.p3.2xlarge',\n",
    "    volume_size=5,\n",
    "    output_path=s3_output_location,\n",
    "    sagemaker_session=Session()\n",
    ")"
   ]
  },
  {
   "cell_type": "markdown",
   "metadata": {},
   "source": [
    "We can also set a few key hyperparameters and define the inputs for our model:"
   ]
  },
  {
   "cell_type": "code",
   "execution_count": 20,
   "metadata": {},
   "outputs": [],
   "source": [
    "img_classifier_model.set_hyperparameters(\n",
    "    image_shape='3,32,32',\n",
    "    num_classes=257,\n",
    "    num_training_samples=1000 \n",
    ")"
   ]
  },
  {
   "cell_type": "markdown",
   "metadata": {},
   "source": [
    "The `image-classification` image uses four input channels with very specific input parameters. For convenience, we've provided them below:"
   ]
  },
  {
   "cell_type": "code",
   "execution_count": 22,
   "metadata": {},
   "outputs": [],
   "source": [
    "from sagemaker.debugger import Rule, rule_configs\n",
    "from sagemaker.session import TrainingInput\n",
    "from sagemaker import inputs\n",
    "model_inputs = {\n",
    "        \"train\": inputs.TrainingInput(\n",
    "            s3_data=f\"s3://{bucket}/train/\",\n",
    "            content_type=\"application/x-image\"\n",
    "        ),\n",
    "        \"validation\": inputs.TrainingInput(\n",
    "            s3_data=f\"s3://{bucket}/test/\",\n",
    "            content_type=\"application/x-image\"\n",
    "        ),\n",
    "        \"train_lst\": inputs.TrainingInput(\n",
    "            s3_data=f\"s3://{bucket}/train.lst\",\n",
    "            content_type=\"application/x-image\"\n",
    "        ),\n",
    "        \"validation_lst\": inputs.TrainingInput(\n",
    "            s3_data=f\"s3://{bucket}/test.lst\",\n",
    "            content_type=\"application/x-image\"\n",
    "        )\n",
    "}"
   ]
  },
  {
   "cell_type": "markdown",
   "metadata": {},
   "source": [
    "Great, now we can train the model using the model_inputs. In the cell below, call the `fit` method on our model,:"
   ]
  },
  {
   "cell_type": "code",
   "execution_count": null,
   "metadata": {},
   "outputs": [
    {
     "name": "stdout",
     "output_type": "stream",
     "text": [
      "2023-01-30 14:12:10 Starting - Starting the training job...\n",
      "2023-01-30 14:12:35 Starting - Preparing the instances for trainingProfilerReport-1675087929: InProgress\n",
      ".........\n",
      "2023-01-30 14:13:54 Downloading - Downloading input data......\n",
      "2023-01-30 14:14:54 Training - Downloading the training image.........\n",
      "2023-01-30 14:16:34 Training - Training image download completed. Training in progress....\u001b[34mDocker entrypoint called with argument(s): train\u001b[0m\n",
      "\u001b[34mRunning default environment configuration script\u001b[0m\n",
      "\u001b[34mNvidia gpu devices, drivers and cuda toolkit versions (only available on hosts with GPU):\u001b[0m\n",
      "\u001b[34mMon Jan 30 14:16:58 2023       \u001b[0m\n",
      "\u001b[34m+-----------------------------------------------------------------------------+\u001b[0m\n",
      "\u001b[34m| NVIDIA-SMI 515.65.07    Driver Version: 515.65.07    CUDA Version: 11.7     |\u001b[0m\n",
      "\u001b[34m|-------------------------------+----------------------+----------------------+\u001b[0m\n",
      "\u001b[34m| GPU  Name        Persistence-M| Bus-Id        Disp.A | Volatile Uncorr. ECC |\u001b[0m\n",
      "\u001b[34m| Fan  Temp  Perf  Pwr:Usage/Cap|         Memory-Usage | GPU-Util  Compute M. |\u001b[0m\n",
      "\u001b[34m|                               |                      |               MIG M. |\u001b[0m\n",
      "\u001b[34m|===============================+======================+======================|\u001b[0m\n",
      "\u001b[34m|   0  Tesla V100-SXM2...  On   | 00000000:00:1E.0 Off |                    0 |\u001b[0m\n",
      "\u001b[34m| N/A   40C    P0    28W / 300W |      0MiB / 16384MiB |      0%      Default |\u001b[0m\n",
      "\u001b[34m|                               |                      |                  N/A |\u001b[0m\n",
      "\u001b[34m+-------------------------------+----------------------+----------------------+\n",
      "                                                                               \u001b[0m\n",
      "\u001b[34m+-----------------------------------------------------------------------------+\u001b[0m\n",
      "\u001b[34m| Processes:                                                                  |\u001b[0m\n",
      "\u001b[34m|  GPU   GI   CI        PID   Type   Process name                  GPU Memory |\u001b[0m\n",
      "\u001b[34m|        ID   ID                                                   Usage      |\u001b[0m\n",
      "\u001b[34m|=============================================================================|\u001b[0m\n",
      "\u001b[34m|  No running processes found                                                 |\u001b[0m\n",
      "\u001b[34m+-----------------------------------------------------------------------------+\u001b[0m\n",
      "\u001b[34mChecking for nvidia driver and cuda compatibility.\u001b[0m\n",
      "\u001b[34mCUDA Compatibility driver provided.\u001b[0m\n",
      "\u001b[34mProceeding with compatibility check between driver, cuda-toolkit and cuda-compat.\u001b[0m\n",
      "\u001b[34mDetected cuda-toolkit version: 11.1.\u001b[0m\n",
      "\u001b[34mDetected cuda-compat version: 455.32.00.\u001b[0m\n",
      "\u001b[34mDetected Nvidia driver version: 515.65.07.\u001b[0m\n",
      "\u001b[34mNvidia driver compatible with cuda-toolkit. Disabling cuda-compat.\u001b[0m\n",
      "\u001b[34m[01/30/2023 14:17:02 INFO 140646022367040] Reading default configuration from /opt/amazon/lib/python3.7/site-packages/image_classification/default-input.json: {'use_pretrained_model': 0, 'num_layers': 152, 'epochs': 30, 'learning_rate': 0.1, 'lr_scheduler_factor': 0.1, 'optimizer': 'sgd', 'momentum': 0, 'weight_decay': 0.0001, 'beta_1': 0.9, 'beta_2': 0.999, 'eps': 1e-08, 'gamma': 0.9, 'mini_batch_size': 32, 'image_shape': '3,224,224', 'precision_dtype': 'float32'}\u001b[0m\n",
      "\u001b[34m[01/30/2023 14:17:02 INFO 140646022367040] Merging with provided configuration from /opt/ml/input/config/hyperparameters.json: {'image_shape': '3,32,32', 'num_classes': '257', 'num_training_samples': '1000'}\u001b[0m\n",
      "\u001b[34m[01/30/2023 14:17:02 INFO 140646022367040] Final configuration: {'use_pretrained_model': 0, 'num_layers': 152, 'epochs': 30, 'learning_rate': 0.1, 'lr_scheduler_factor': 0.1, 'optimizer': 'sgd', 'momentum': 0, 'weight_decay': 0.0001, 'beta_1': 0.9, 'beta_2': 0.999, 'eps': 1e-08, 'gamma': 0.9, 'mini_batch_size': 32, 'image_shape': '3,32,32', 'precision_dtype': 'float32', 'num_classes': '257', 'num_training_samples': '1000'}\u001b[0m\n",
      "\u001b[34m[01/30/2023 14:17:02 INFO 140646022367040] Searching for .lst files in /opt/ml/input/data/train_lst.\u001b[0m\n",
      "\u001b[34m[01/30/2023 14:17:02 INFO 140646022367040] Creating record files for train.lst\u001b[0m\n",
      "\u001b[34m[01/30/2023 14:17:02 INFO 140646022367040] Done creating record files...\u001b[0m\n",
      "\u001b[34m[01/30/2023 14:17:02 INFO 140646022367040] Searching for .lst files in /opt/ml/input/data/validation_lst.\u001b[0m\n",
      "\u001b[34m[01/30/2023 14:17:02 INFO 140646022367040] Creating record files for test.lst\u001b[0m\n",
      "\u001b[34m[01/30/2023 14:17:02 INFO 140646022367040] Done creating record files...\u001b[0m\n",
      "\u001b[34m[01/30/2023 14:17:02 INFO 140646022367040] use_pretrained_model: 0\u001b[0m\n",
      "\u001b[34m[01/30/2023 14:17:02 INFO 140646022367040] multi_label: 0\u001b[0m\n",
      "\u001b[34m[01/30/2023 14:17:02 INFO 140646022367040] Performing random weight initialization\u001b[0m\n",
      "\u001b[34m[01/30/2023 14:17:02 INFO 140646022367040] ---- Parameters ----\u001b[0m\n",
      "\u001b[34m[01/30/2023 14:17:02 INFO 140646022367040] num_layers: 152\u001b[0m\n",
      "\u001b[34m[01/30/2023 14:17:02 INFO 140646022367040] data type: <class 'numpy.float32'>\u001b[0m\n",
      "\u001b[34m[01/30/2023 14:17:02 INFO 140646022367040] epochs: 30\u001b[0m\n",
      "\u001b[34m[01/30/2023 14:17:02 INFO 140646022367040] optimizer: sgd\u001b[0m\n",
      "\u001b[34m[01/30/2023 14:17:02 INFO 140646022367040] momentum: 0.9\u001b[0m\n",
      "\u001b[34m[01/30/2023 14:17:02 INFO 140646022367040] weight_decay: 0.0001\u001b[0m\n",
      "\u001b[34m[01/30/2023 14:17:02 INFO 140646022367040] learning_rate: 0.1\u001b[0m\n",
      "\u001b[34m[01/30/2023 14:17:02 INFO 140646022367040] num_training_samples: 1000\u001b[0m\n",
      "\u001b[34m[01/30/2023 14:17:02 INFO 140646022367040] mini_batch_size: 32\u001b[0m\n",
      "\u001b[34m[01/30/2023 14:17:02 INFO 140646022367040] image_shape: 3,32,32\u001b[0m\n",
      "\u001b[34m[01/30/2023 14:17:02 INFO 140646022367040] num_classes: 257\u001b[0m\n",
      "\u001b[34m[01/30/2023 14:17:02 INFO 140646022367040] augmentation_type: None\u001b[0m\n",
      "\u001b[34m[01/30/2023 14:17:02 INFO 140646022367040] kv_store: device\u001b[0m\n",
      "\u001b[34m[01/30/2023 14:17:02 INFO 140646022367040] checkpoint_frequency not set, will store the best model\u001b[0m\n",
      "\u001b[34m[01/30/2023 14:17:02 INFO 140646022367040] --------------------\u001b[0m\n",
      "\u001b[34m[01/30/2023 14:17:02 INFO 140646022367040] Setting number of threads: 7\u001b[0m\n",
      "\u001b[34m[14:17:06] /opt/brazil-pkg-cache/packages/AIAlgorithmsMXNet/AIAlgorithmsMXNet-1.4.x_ecl_Cuda_11.1.x.38.0/AL2_x86_64/generic-flavor/src/src/operator/nn/./cudnn/./cudnn_algoreg-inl.h:97: Running performance tests to find the best convolution algorithm, this can take a while... (setting env variable MXNET_CUDNN_AUTOTUNE_DEFAULT to 0 to disable)\u001b[0m\n",
      "\u001b[34m[01/30/2023 14:17:11 INFO 140646022367040] Epoch[0] Batch [20]#011Speed: 124.558 samples/sec#011accuracy=0.565476\u001b[0m\n",
      "\u001b[34m[01/30/2023 14:17:13 INFO 140646022367040] Epoch[0] Train-accuracy=0.605847\u001b[0m\n",
      "\u001b[34m[01/30/2023 14:17:13 INFO 140646022367040] Epoch[0] Time cost=6.749\u001b[0m\n",
      "\u001b[34m[01/30/2023 14:17:13 INFO 140646022367040] Epoch[0] Validation-accuracy=0.526042\u001b[0m\n",
      "\u001b[34m[01/30/2023 14:17:14 INFO 140646022367040] Storing the best model with validation accuracy: 0.526042\u001b[0m\n",
      "\u001b[34m[01/30/2023 14:17:14 INFO 140646022367040] Saved checkpoint to \"/opt/ml/model/image-classification-0001.params\"\u001b[0m\n",
      "\u001b[34m[01/30/2023 14:17:17 INFO 140646022367040] Epoch[1] Batch [20]#011Speed: 187.985 samples/sec#011accuracy=0.706845\u001b[0m\n",
      "\u001b[34m[01/30/2023 14:17:19 INFO 140646022367040] Epoch[1] Train-accuracy=0.726815\u001b[0m\n",
      "\u001b[34m[01/30/2023 14:17:19 INFO 140646022367040] Epoch[1] Time cost=5.007\u001b[0m\n",
      "\u001b[34m[01/30/2023 14:17:19 INFO 140646022367040] Epoch[1] Validation-accuracy=0.614583\u001b[0m\n",
      "\u001b[34m[01/30/2023 14:17:20 INFO 140646022367040] Storing the best model with validation accuracy: 0.614583\u001b[0m\n",
      "\u001b[34m[01/30/2023 14:17:20 INFO 140646022367040] Saved checkpoint to \"/opt/ml/model/image-classification-0002.params\"\u001b[0m\n",
      "\u001b[34m[01/30/2023 14:17:23 INFO 140646022367040] Epoch[2] Batch [20]#011Speed: 194.929 samples/sec#011accuracy=0.729167\u001b[0m\n",
      "\u001b[34m[01/30/2023 14:17:25 INFO 140646022367040] Epoch[2] Train-accuracy=0.736895\u001b[0m\n",
      "\u001b[34m[01/30/2023 14:17:25 INFO 140646022367040] Epoch[2] Time cost=4.879\u001b[0m\n",
      "\u001b[34m[01/30/2023 14:17:25 INFO 140646022367040] Epoch[2] Validation-accuracy=0.817708\u001b[0m\n",
      "\u001b[34m[01/30/2023 14:17:26 INFO 140646022367040] Storing the best model with validation accuracy: 0.817708\u001b[0m\n",
      "\u001b[34m[01/30/2023 14:17:26 INFO 140646022367040] Saved checkpoint to \"/opt/ml/model/image-classification-0003.params\"\u001b[0m\n",
      "\u001b[34m[01/30/2023 14:17:29 INFO 140646022367040] Epoch[3] Batch [20]#011Speed: 196.042 samples/sec#011accuracy=0.736607\u001b[0m\n",
      "\u001b[34m[01/30/2023 14:17:31 INFO 140646022367040] Epoch[3] Train-accuracy=0.762097\u001b[0m\n",
      "\u001b[34m[01/30/2023 14:17:31 INFO 140646022367040] Epoch[3] Time cost=4.884\u001b[0m\n",
      "\u001b[34m[01/30/2023 14:17:32 INFO 140646022367040] Epoch[3] Validation-accuracy=0.803571\u001b[0m\n",
      "\u001b[34m[01/30/2023 14:17:35 INFO 140646022367040] Epoch[4] Batch [20]#011Speed: 192.226 samples/sec#011accuracy=0.770833\u001b[0m\n",
      "\u001b[34m[01/30/2023 14:17:37 INFO 140646022367040] Epoch[4] Train-accuracy=0.769153\u001b[0m\n",
      "\u001b[34m[01/30/2023 14:17:37 INFO 140646022367040] Epoch[4] Time cost=4.965\u001b[0m\n",
      "\u001b[34m[01/30/2023 14:17:37 INFO 140646022367040] Epoch[4] Validation-accuracy=0.828125\u001b[0m\n",
      "\u001b[34m[01/30/2023 14:17:38 INFO 140646022367040] Storing the best model with validation accuracy: 0.828125\u001b[0m\n",
      "\u001b[34m[01/30/2023 14:17:38 INFO 140646022367040] Saved checkpoint to \"/opt/ml/model/image-classification-0005.params\"\u001b[0m\n",
      "\u001b[34m[01/30/2023 14:17:42 INFO 140646022367040] Epoch[5] Batch [20]#011Speed: 194.389 samples/sec#011accuracy=0.808036\u001b[0m\n",
      "\u001b[34m[01/30/2023 14:17:43 INFO 140646022367040] Epoch[5] Train-accuracy=0.792339\u001b[0m\n",
      "\u001b[34m[01/30/2023 14:17:43 INFO 140646022367040] Epoch[5] Time cost=4.928\u001b[0m\n",
      "\u001b[34m[01/30/2023 14:17:44 INFO 140646022367040] Epoch[5] Validation-accuracy=0.828125\u001b[0m\n",
      "\u001b[34m[01/30/2023 14:17:47 INFO 140646022367040] Epoch[6] Batch [20]#011Speed: 191.759 samples/sec#011accuracy=0.842262\u001b[0m\n",
      "\u001b[34m[01/30/2023 14:17:49 INFO 140646022367040] Epoch[6] Train-accuracy=0.823589\u001b[0m\n",
      "\u001b[34m[01/30/2023 14:17:49 INFO 140646022367040] Epoch[6] Time cost=5.023\u001b[0m\n",
      "\u001b[34m[01/30/2023 14:17:50 INFO 140646022367040] Epoch[6] Validation-accuracy=0.828125\u001b[0m\n",
      "\u001b[34m[01/30/2023 14:17:54 INFO 140646022367040] Epoch[7] Batch [20]#011Speed: 186.502 samples/sec#011accuracy=0.821429\u001b[0m\n",
      "\u001b[34m[01/30/2023 14:17:55 INFO 140646022367040] Epoch[7] Train-accuracy=0.820565\u001b[0m\n",
      "\u001b[34m[01/30/2023 14:17:55 INFO 140646022367040] Epoch[7] Time cost=5.118\u001b[0m\n",
      "\u001b[34m[01/30/2023 14:17:56 INFO 140646022367040] Epoch[7] Validation-accuracy=0.754464\u001b[0m\n",
      "\u001b[34m[01/30/2023 14:18:00 INFO 140646022367040] Epoch[8] Batch [20]#011Speed: 193.059 samples/sec#011accuracy=0.846726\u001b[0m\n",
      "\u001b[34m[01/30/2023 14:18:01 INFO 140646022367040] Epoch[8] Train-accuracy=0.843750\u001b[0m\n",
      "\u001b[34m[01/30/2023 14:18:01 INFO 140646022367040] Epoch[8] Time cost=4.973\u001b[0m\n",
      "\u001b[34m[01/30/2023 14:18:02 INFO 140646022367040] Epoch[8] Validation-accuracy=0.817708\u001b[0m\n",
      "\u001b[34m[01/30/2023 14:18:06 INFO 140646022367040] Epoch[9] Batch [20]#011Speed: 193.543 samples/sec#011accuracy=0.848214\u001b[0m\n",
      "\u001b[34m[01/30/2023 14:18:07 INFO 140646022367040] Epoch[9] Train-accuracy=0.856855\u001b[0m\n",
      "\u001b[34m[01/30/2023 14:18:07 INFO 140646022367040] Epoch[9] Time cost=4.910\u001b[0m\n",
      "\u001b[34m[01/30/2023 14:18:08 INFO 140646022367040] Epoch[9] Validation-accuracy=0.869792\u001b[0m\n",
      "\u001b[34m[01/30/2023 14:18:08 INFO 140646022367040] Storing the best model with validation accuracy: 0.869792\u001b[0m\n",
      "\u001b[34m[01/30/2023 14:18:08 INFO 140646022367040] Saved checkpoint to \"/opt/ml/model/image-classification-0010.params\"\u001b[0m\n",
      "\u001b[34m[01/30/2023 14:18:12 INFO 140646022367040] Epoch[10] Batch [20]#011Speed: 194.869 samples/sec#011accuracy=0.870536\u001b[0m\n",
      "\u001b[34m[01/30/2023 14:18:13 INFO 140646022367040] Epoch[10] Train-accuracy=0.855847\u001b[0m\n",
      "\u001b[34m[01/30/2023 14:18:13 INFO 140646022367040] Epoch[10] Time cost=4.888\u001b[0m\n",
      "\u001b[34m[01/30/2023 14:18:14 INFO 140646022367040] Epoch[10] Validation-accuracy=0.885417\u001b[0m\n",
      "\u001b[34m[01/30/2023 14:18:14 INFO 140646022367040] Storing the best model with validation accuracy: 0.885417\u001b[0m\n",
      "\u001b[34m[01/30/2023 14:18:15 INFO 140646022367040] Saved checkpoint to \"/opt/ml/model/image-classification-0011.params\"\u001b[0m\n",
      "\u001b[34m[01/30/2023 14:18:18 INFO 140646022367040] Epoch[11] Batch [20]#011Speed: 191.498 samples/sec#011accuracy=0.873512\u001b[0m\n",
      "\u001b[34m[01/30/2023 14:18:20 INFO 140646022367040] Epoch[11] Train-accuracy=0.869960\u001b[0m\n",
      "\u001b[34m[01/30/2023 14:18:20 INFO 140646022367040] Epoch[11] Time cost=4.971\u001b[0m\n",
      "\u001b[34m[01/30/2023 14:18:20 INFO 140646022367040] Epoch[11] Validation-accuracy=0.857143\u001b[0m\n",
      "\u001b[34m[01/30/2023 14:18:24 INFO 140646022367040] Epoch[12] Batch [20]#011Speed: 191.582 samples/sec#011accuracy=0.882440\u001b[0m\n",
      "\u001b[34m[01/30/2023 14:18:26 INFO 140646022367040] Epoch[12] Train-accuracy=0.876008\u001b[0m\n",
      "\u001b[34m[01/30/2023 14:18:26 INFO 140646022367040] Epoch[12] Time cost=4.991\u001b[0m\n",
      "\u001b[34m[01/30/2023 14:18:26 INFO 140646022367040] Epoch[12] Validation-accuracy=0.843750\u001b[0m\n",
      "\u001b[34m[01/30/2023 14:18:30 INFO 140646022367040] Epoch[13] Batch [20]#011Speed: 195.055 samples/sec#011accuracy=0.888393\u001b[0m\n",
      "\u001b[34m[01/30/2023 14:18:31 INFO 140646022367040] Epoch[13] Train-accuracy=0.884073\u001b[0m\n",
      "\u001b[34m[01/30/2023 14:18:31 INFO 140646022367040] Epoch[13] Time cost=4.920\u001b[0m\n",
      "\u001b[34m[01/30/2023 14:18:32 INFO 140646022367040] Epoch[13] Validation-accuracy=0.838542\u001b[0m\n",
      "\u001b[34m[01/30/2023 14:18:36 INFO 140646022367040] Epoch[14] Batch [20]#011Speed: 194.774 samples/sec#011accuracy=0.922619\u001b[0m\n",
      "\u001b[34m[01/30/2023 14:18:37 INFO 140646022367040] Epoch[14] Train-accuracy=0.921371\u001b[0m\n",
      "\u001b[34m[01/30/2023 14:18:37 INFO 140646022367040] Epoch[14] Time cost=4.885\u001b[0m\n",
      "\u001b[34m[01/30/2023 14:18:38 INFO 140646022367040] Epoch[14] Validation-accuracy=0.843750\u001b[0m\n",
      "\u001b[34m[01/30/2023 14:18:42 INFO 140646022367040] Epoch[15] Batch [20]#011Speed: 192.128 samples/sec#011accuracy=0.927083\u001b[0m\n",
      "\u001b[34m[01/30/2023 14:18:43 INFO 140646022367040] Epoch[15] Train-accuracy=0.912298\u001b[0m\n",
      "\u001b[34m[01/30/2023 14:18:43 INFO 140646022367040] Epoch[15] Time cost=4.951\u001b[0m\n",
      "\u001b[34m[01/30/2023 14:18:44 INFO 140646022367040] Epoch[15] Validation-accuracy=0.834821\u001b[0m\n",
      "\u001b[34m[01/30/2023 14:18:48 INFO 140646022367040] Epoch[16] Batch [20]#011Speed: 191.039 samples/sec#011accuracy=0.925595\u001b[0m\n",
      "\u001b[34m[01/30/2023 14:18:49 INFO 140646022367040] Epoch[16] Train-accuracy=0.920363\u001b[0m\n",
      "\u001b[34m[01/30/2023 14:18:49 INFO 140646022367040] Epoch[16] Time cost=4.983\u001b[0m\n",
      "\u001b[34m[01/30/2023 14:18:50 INFO 140646022367040] Epoch[16] Validation-accuracy=0.822917\u001b[0m\n",
      "\u001b[34m[01/30/2023 14:18:53 INFO 140646022367040] Epoch[17] Batch [20]#011Speed: 193.018 samples/sec#011accuracy=0.930060\u001b[0m\n",
      "\u001b[34m[01/30/2023 14:18:55 INFO 140646022367040] Epoch[17] Train-accuracy=0.931452\u001b[0m\n",
      "\u001b[34m[01/30/2023 14:18:55 INFO 140646022367040] Epoch[17] Time cost=4.929\u001b[0m\n",
      "\u001b[34m[01/30/2023 14:18:56 INFO 140646022367040] Epoch[17] Validation-accuracy=0.817708\u001b[0m\n",
      "\u001b[34m[01/30/2023 14:18:59 INFO 140646022367040] Epoch[18] Batch [20]#011Speed: 195.263 samples/sec#011accuracy=0.903274\u001b[0m\n",
      "\u001b[34m[01/30/2023 14:19:01 INFO 140646022367040] Epoch[18] Train-accuracy=0.910282\u001b[0m\n",
      "\u001b[34m[01/30/2023 14:19:01 INFO 140646022367040] Epoch[18] Time cost=4.917\u001b[0m\n",
      "\u001b[34m[01/30/2023 14:19:01 INFO 140646022367040] Epoch[18] Validation-accuracy=0.822917\u001b[0m\n",
      "\u001b[34m[01/30/2023 14:19:05 INFO 140646022367040] Epoch[19] Batch [20]#011Speed: 191.274 samples/sec#011accuracy=0.955357\u001b[0m\n",
      "\u001b[34m[01/30/2023 14:19:07 INFO 140646022367040] Epoch[19] Train-accuracy=0.954637\u001b[0m\n",
      "\u001b[34m[01/30/2023 14:19:07 INFO 140646022367040] Epoch[19] Time cost=4.951\u001b[0m\n",
      "\u001b[34m[01/30/2023 14:19:07 INFO 140646022367040] Epoch[19] Validation-accuracy=0.843750\u001b[0m\n",
      "\u001b[34m[01/30/2023 14:19:11 INFO 140646022367040] Epoch[20] Batch [20]#011Speed: 193.460 samples/sec#011accuracy=0.943452\u001b[0m\n",
      "\u001b[34m[01/30/2023 14:19:13 INFO 140646022367040] Epoch[20] Train-accuracy=0.936492\u001b[0m\n",
      "\u001b[34m[01/30/2023 14:19:13 INFO 140646022367040] Epoch[20] Time cost=4.917\u001b[0m\n",
      "\u001b[34m[01/30/2023 14:19:13 INFO 140646022367040] Epoch[20] Validation-accuracy=0.812500\u001b[0m\n",
      "\u001b[34m[01/30/2023 14:19:17 INFO 140646022367040] Epoch[21] Batch [20]#011Speed: 195.863 samples/sec#011accuracy=0.937500\u001b[0m\n",
      "\u001b[34m[01/30/2023 14:19:19 INFO 140646022367040] Epoch[21] Train-accuracy=0.942540\u001b[0m\n",
      "\u001b[34m[01/30/2023 14:19:19 INFO 140646022367040] Epoch[21] Time cost=4.887\u001b[0m\n",
      "\u001b[34m[01/30/2023 14:19:19 INFO 140646022367040] Epoch[21] Validation-accuracy=0.838542\u001b[0m\n",
      "\u001b[34m[01/30/2023 14:19:23 INFO 140646022367040] Epoch[22] Batch [20]#011Speed: 195.741 samples/sec#011accuracy=0.976190\u001b[0m\n",
      "\u001b[34m[01/30/2023 14:19:25 INFO 140646022367040] Epoch[22] Train-accuracy=0.967742\u001b[0m\n",
      "\u001b[34m[01/30/2023 14:19:25 INFO 140646022367040] Epoch[22] Time cost=4.885\u001b[0m\n",
      "\u001b[34m[01/30/2023 14:19:25 INFO 140646022367040] Epoch[22] Validation-accuracy=0.812500\u001b[0m\n",
      "\u001b[34m[01/30/2023 14:19:29 INFO 140646022367040] Epoch[23] Batch [20]#011Speed: 194.940 samples/sec#011accuracy=0.964286\u001b[0m\n",
      "\u001b[34m[01/30/2023 14:19:30 INFO 140646022367040] Epoch[23] Train-accuracy=0.957661\u001b[0m\n",
      "\u001b[34m[01/30/2023 14:19:30 INFO 140646022367040] Epoch[23] Time cost=4.894\u001b[0m\n",
      "\u001b[34m[01/30/2023 14:19:31 INFO 140646022367040] Epoch[23] Validation-accuracy=0.857143\u001b[0m\n",
      "\u001b[34m[01/30/2023 14:19:35 INFO 140646022367040] Epoch[24] Batch [20]#011Speed: 193.875 samples/sec#011accuracy=0.949405\u001b[0m\n",
      "\u001b[34m[01/30/2023 14:19:36 INFO 140646022367040] Epoch[24] Train-accuracy=0.952621\u001b[0m\n",
      "\u001b[34m[01/30/2023 14:19:36 INFO 140646022367040] Epoch[24] Time cost=4.921\u001b[0m\n",
      "\u001b[34m[01/30/2023 14:19:37 INFO 140646022367040] Epoch[24] Validation-accuracy=0.848958\u001b[0m\n",
      "\u001b[34m[01/30/2023 14:19:41 INFO 140646022367040] Epoch[25] Batch [20]#011Speed: 195.369 samples/sec#011accuracy=0.950893\u001b[0m\n",
      "\u001b[34m[01/30/2023 14:19:42 INFO 140646022367040] Epoch[25] Train-accuracy=0.947581\u001b[0m\n",
      "\u001b[34m[01/30/2023 14:19:42 INFO 140646022367040] Epoch[25] Time cost=4.884\u001b[0m\n",
      "\u001b[34m[01/30/2023 14:19:43 INFO 140646022367040] Epoch[25] Validation-accuracy=0.786458\u001b[0m\n",
      "\u001b[34m[01/30/2023 14:19:47 INFO 140646022367040] Epoch[26] Batch [20]#011Speed: 194.817 samples/sec#011accuracy=0.925595\u001b[0m\n",
      "\u001b[34m[01/30/2023 14:19:48 INFO 140646022367040] Epoch[26] Train-accuracy=0.943548\u001b[0m\n",
      "\u001b[34m[01/30/2023 14:19:48 INFO 140646022367040] Epoch[26] Time cost=4.878\u001b[0m\n",
      "\u001b[34m[01/30/2023 14:19:49 INFO 140646022367040] Epoch[26] Validation-accuracy=0.833333\u001b[0m\n",
      "\u001b[34m[01/30/2023 14:19:52 INFO 140646022367040] Epoch[27] Batch [20]#011Speed: 194.606 samples/sec#011accuracy=0.985119\u001b[0m\n",
      "\u001b[34m[01/30/2023 14:19:54 INFO 140646022367040] Epoch[27] Train-accuracy=0.981855\u001b[0m\n",
      "\u001b[34m[01/30/2023 14:19:54 INFO 140646022367040] Epoch[27] Time cost=4.875\u001b[0m\n",
      "\u001b[34m[01/30/2023 14:19:54 INFO 140646022367040] Epoch[27] Validation-accuracy=0.839286\u001b[0m\n",
      "\u001b[34m[01/30/2023 14:19:58 INFO 140646022367040] Epoch[28] Batch [20]#011Speed: 194.190 samples/sec#011accuracy=0.973214\u001b[0m\n",
      "\u001b[34m[01/30/2023 14:20:00 INFO 140646022367040] Epoch[28] Train-accuracy=0.965726\u001b[0m\n",
      "\u001b[34m[01/30/2023 14:20:00 INFO 140646022367040] Epoch[28] Time cost=4.892\u001b[0m\n",
      "\u001b[34m[01/30/2023 14:20:00 INFO 140646022367040] Epoch[28] Validation-accuracy=0.807292\u001b[0m\n",
      "\u001b[34m[01/30/2023 14:20:04 INFO 140646022367040] Epoch[29] Batch [20]#011Speed: 188.984 samples/sec#011accuracy=0.986607\u001b[0m\n",
      "\u001b[34m[01/30/2023 14:20:06 INFO 140646022367040] Epoch[29] Train-accuracy=0.983871\u001b[0m\n",
      "\u001b[34m[01/30/2023 14:20:06 INFO 140646022367040] Epoch[29] Time cost=4.991\u001b[0m\n",
      "\u001b[34m[01/30/2023 14:20:06 INFO 140646022367040] Epoch[29] Validation-accuracy=0.854167\u001b[0m\n",
      "\n",
      "2023-01-30 14:20:15 Uploading - Uploading generated training model"
     ]
    }
   ],
   "source": [
    "## TODO: train your model\n",
    "img_classifier_model.fit(inputs=model_inputs, logs=True)"
   ]
  },
  {
   "cell_type": "markdown",
   "metadata": {},
   "source": [
    "If all goes well, you'll end up with a model topping out above `.8` validation accuracy. With only 1000 training samples in the CIFAR dataset, that's pretty good. We could definitely pursue data augmentation & gathering more samples to help us improve further, but for now let's proceed to deploy our model.\n",
    "\n",
    "### Getting ready to deploy\n",
    "\n",
    "To begin with, let's configure Model Monitor to track our deployment. We'll define a `DataCaptureConfig` below:"
   ]
  },
  {
   "cell_type": "code",
   "execution_count": 24,
   "metadata": {},
   "outputs": [],
   "source": [
    "from sagemaker.model_monitor import DataCaptureConfig\n",
    "\n",
    "data_capture_config = DataCaptureConfig(\n",
    "    enable_capture=True,\n",
    "    sampling_percentage=100,\n",
    "    destination_s3_uri=f\"s3://{bucket}/data_capture\"\n",
    ")"
   ]
  },
  {
   "cell_type": "markdown",
   "metadata": {},
   "source": [
    "Note the `destination_s3_uri` parameter: At the end of the project, we can explore the `data_capture` directory in S3 to find crucial data about the inputs and outputs Model Monitor has observed on our model endpoint over time.\n",
    "\n",
    "With that done, deploy your model on a single `ml.m5.xlarge` instance with the data capture config attached:"
   ]
  },
  {
   "cell_type": "code",
   "execution_count": 25,
   "metadata": {},
   "outputs": [
    {
     "name": "stdout",
     "output_type": "stream",
     "text": [
      "---------!image-classification-2023-01-30-14-27-06-335\n"
     ]
    }
   ],
   "source": [
    "deployment = img_classifier_model.deploy(\n",
    "    initial_instance_count=1, instance_type='ml.m5.xlarge',\n",
    "    data_capture_config=data_capture_config\n",
    "    )\n",
    "\n",
    "endpoint = deployment.endpoint_name\n",
    "print(endpoint)"
   ]
  },
  {
   "cell_type": "markdown",
   "metadata": {},
   "source": [
    "Note the endpoint name for later as well.\n",
    "\n",
    "Next, instantiate a Predictor:"
   ]
  },
  {
   "cell_type": "code",
   "execution_count": 42,
   "metadata": {},
   "outputs": [],
   "source": [
    "from sagemaker import predictor\n",
    "predictor = predictor.Predictor(endpoint)"
   ]
  },
  {
   "cell_type": "markdown",
   "metadata": {},
   "source": [
    "In the code snippet below we are going to prepare one of your saved images for prediction. Use the predictor to process the `payload`."
   ]
  },
  {
   "cell_type": "code",
   "execution_count": 43,
   "metadata": {},
   "outputs": [],
   "source": [
    "from sagemaker.serializers import IdentitySerializer\n",
    "import base64\n",
    "\n",
    "payload=None\n",
    "predictor.serializer = IdentitySerializer(\"image/png\")\n",
    "with open(\"./test/bicycle_s_001789.png\", \"rb\") as f:\n",
    "    payload = f.read()\n",
    "\n",
    "    \n",
    "inference = predictor.predict(data=payload)"
   ]
  },
  {
   "cell_type": "markdown",
   "metadata": {},
   "source": [
    "Your `inference` object is an array of two values, the predicted probability value for each of your classes (bicycle and motorcycle respectively.) So, for example, a value of `b'[0.91, 0.09]'` indicates the probability of being a bike is 91% and being a motorcycle is 9%."
   ]
  },
  {
   "cell_type": "code",
   "execution_count": 44,
   "metadata": {},
   "outputs": [
    {
     "name": "stdout",
     "output_type": "stream",
     "text": [
      "b'[0.8207523226737976, 0.17907442152500153, 7.08866423337895e-07, 6.553873959092016e-07, 7.374750339295133e-07, 7.046618861750176e-07, 6.906062708367244e-07, 6.811805519646441e-07, 6.621510806326114e-07, 5.55634755983192e-07, 6.498667630694399e-07, 7.074219183778041e-07, 6.664183729299111e-07, 6.877945111227746e-07, 7.206174927887332e-07, 6.836086754447024e-07, 7.020626640041883e-07, 7.034902296254586e-07, 6.982253353271517e-07, 6.855182164144935e-07, 6.895170940879325e-07, 7.574518576802802e-07, 7.195318403319106e-07, 7.232351322272734e-07, 6.825754326200695e-07, 6.715010840707691e-07, 6.724200716234918e-07, 7.114583695511101e-07, 6.667852403552388e-07, 6.627051334362477e-07, 5.987835720588919e-07, 7.286003551598697e-07, 6.754607397851942e-07, 6.738522415616899e-07, 6.474190286098747e-07, 6.782725563425629e-07, 6.767716058675433e-07, 7.088427764756489e-07, 6.80425500831916e-07, 6.861192787255277e-07, 6.814469770688447e-07, 6.806935175518447e-07, 6.891502835060237e-07, 6.711322839692002e-07, 6.632216695834359e-07, 6.819312829975388e-07, 6.646463361903443e-07, 6.845461371085548e-07, 6.04942329118785e-07, 6.61178091831971e-07, 6.977567181820632e-07, 6.534894509968581e-07, 7.190427595560323e-07, 7.275990583366365e-07, 7.025302011243184e-07, 7.02637350968871e-07, 6.630401685470133e-07, 6.814241828578815e-07, 6.701339430037478e-07, 6.896407853673736e-07, 6.995863941483549e-07, 6.523686124637607e-07, 6.708801834065525e-07, 6.90277715875709e-07, 6.167602464302036e-07, 6.545591304529808e-07, 6.599169068977062e-07, 6.674519568150572e-07, 7.162667543525458e-07, 6.739325613125402e-07, 5.082725920146913e-07, 6.767793365725083e-07, 6.910523211445252e-07, 6.882268621666299e-07, 7.216174822133326e-07, 6.852482670183235e-07, 6.5267352056253e-07, 6.805708494539431e-07, 6.469604159065057e-07, 6.988641985117283e-07, 6.787255415474647e-07, 6.114483426244988e-07, 6.740360731782857e-07, 6.725431944687443e-07, 7.058308710838901e-07, 5.983879987070395e-07, 6.805474868087913e-07, 6.793478632971528e-07, 7.25650465938088e-07, 6.101080884945986e-07, 7.152769967433414e-07, 6.718001941408147e-07, 6.203828775142028e-07, 6.719021143908321e-07, 6.678709496554802e-07, 7.007128601799195e-07, 6.945613222342217e-07, 6.495266120509768e-07, 6.549612407980021e-07, 6.105358352215262e-07, 6.950550073270279e-07, 6.932926908120862e-07, 6.775749739063031e-07, 6.296400556493609e-07, 6.89893397520791e-07, 6.721347176608106e-07, 6.977201110203168e-07, 6.908987870701822e-07, 7.008257512097771e-07, 6.103495593379193e-07, 6.943420771676756e-07, 6.397482366082841e-07, 6.855652827653103e-07, 7.250430940075603e-07, 6.193743615767744e-07, 6.884408776386408e-07, 6.667718253083876e-07, 6.85643783526757e-07, 6.868139053040068e-07, 6.800537448725663e-07, 6.600396886824456e-07, 6.733652639923093e-07, 6.785488722016453e-07, 6.951603950255958e-07, 7.362901897067786e-07, 6.145526185719064e-07, 6.705827786390728e-07, 6.960619316487282e-07, 6.796310572099173e-07, 7.015124765530345e-07, 7.018437599981553e-07, 6.848876523690706e-07, 6.444313953579694e-07, 7.032729172351537e-07, 6.668061587333796e-07, 6.443361826313776e-07, 6.824153047091386e-07, 7.060368716338417e-07, 6.739306286362989e-07, 6.811130219830375e-07, 6.184972107803333e-07, 7.075568646541797e-07, 6.812832111791067e-07, 6.862999271106673e-07, 6.600301958314958e-07, 6.645341841249319e-07, 6.42806639916671e-07, 7.065723366395105e-07, 6.765534976693743e-07, 7.220951943054388e-07, 6.96295614943665e-07, 7.204883445410815e-07, 7.256144840539491e-07, 6.781639285691199e-07, 6.68800907988043e-07, 6.922059583303053e-07, 6.693866225759848e-07, 6.68844222673215e-07, 7.026340540505771e-07, 6.697895855722891e-07, 7.056996196297405e-07, 6.679900366179936e-07, 6.657063522652606e-07, 6.83937969370163e-07, 6.65557138290751e-07, 6.958807148294e-07, 6.801503786846297e-07, 6.959471079426294e-07, 6.940878733985301e-07, 6.789061330891855e-07, 6.841800086476724e-07, 7.088150937306636e-07, 6.75445278375264e-07, 6.874305427118088e-07, 7.46056457501254e-07, 6.816464974690462e-07, 7.448464884873829e-07, 7.036492206680123e-07, 6.159467034194677e-07, 7.049603709674557e-07, 7.253211151692085e-07, 6.228816573639051e-07, 6.634380156356201e-07, 6.703717190248426e-07, 6.373823566718784e-07, 6.284072924245265e-07, 6.232518785509455e-07, 6.5410858951509e-07, 6.637494038841396e-07, 6.7860452190871e-07, 6.521521527247387e-07, 6.56919894481689e-07, 7.060927487145818e-07, 6.887107701913919e-07, 6.806896521993622e-07, 6.719386078657408e-07, 6.566248202943825e-07, 6.781619958928786e-07, 6.994509931246284e-07, 6.603405608984758e-07, 6.727972277076333e-07, 6.680155593130621e-07, 6.966343448766565e-07, 6.622445312132186e-07, 7.110547812771983e-07, 6.610810032725567e-07, 6.862933901174983e-07, 6.335787929856451e-07, 6.687275231342937e-07, 6.498587481473805e-07, 6.380013815032726e-07, 6.762503517165896e-07, 6.820158091613848e-07, 7.366252248175442e-07, 6.819482223363593e-07, 6.824524234616547e-07, 6.700476546939171e-07, 6.739435320923803e-07, 6.46015280381107e-07, 6.622824457735987e-07, 6.898657716192247e-07, 7.388047720269242e-07, 7.354010449489579e-07, 6.476153657786199e-07, 6.861042720629484e-07, 6.235812293198251e-07, 6.742623668287706e-07, 6.742565688000468e-07, 7.010871740931179e-07, 7.027438755358162e-07, 7.325207889152807e-07, 7.09496134732035e-07, 6.47685169496981e-07, 6.688002258670167e-07, 7.059237532303086e-07, 6.845839948255161e-07, 6.435525961023814e-07, 6.793666784687957e-07, 7.24671167517954e-07, 6.796200295866583e-07, 6.794068099225115e-07, 6.744488700860529e-07, 6.951875661798113e-07, 6.96231893471122e-07, 6.845911570962926e-07, 7.153813612603699e-07, 7.125413503672462e-07, 6.886273808959231e-07, 7.230875098684919e-07, 6.898387141518469e-07, 6.495173465737025e-07, 6.653458513028454e-07, 6.533884970849613e-07, 6.835995236542658e-07, 6.959324991839821e-07, 7.540786555182422e-07, 6.22626885160571e-07]'\n"
     ]
    }
   ],
   "source": [
    "print(inference)"
   ]
  },
  {
   "cell_type": "markdown",
   "metadata": {},
   "source": [
    "### Draft Lambdas and Step Function Workflow\n",
    "\n",
    "Your operations team uses Step Functions to orchestrate serverless workflows. One of the nice things about Step Functions is that [workflows can call other workflows](https://docs.aws.amazon.com/step-functions/latest/dg/connect-stepfunctions.html), so the team can easily plug your workflow into the broader production architecture for Scones Unlimited.\n",
    "\n",
    "In this next stage you're going to write and deploy three Lambda functions, and then use the Step Functions visual editor to chain them together! Our functions are going to work with a simple data object:\n",
    "\n",
    "```python\n",
    "{\n",
    "    \"inferences\": [], # Output of predictor.predict\n",
    "    \"s3_key\": \"\", # Source data S3 key\n",
    "    \"s3_bucket\": \"\", # Source data S3 bucket\n",
    "    \"image_data\": \"\"  # base64 encoded string containing the image data\n",
    "}\n",
    "```\n",
    "\n",
    "A good test object that you can use for Lambda tests and Step Function executions, throughout the next section, might look like this:\n",
    "\n",
    "```python\n",
    "{\n",
    "  \"image_data\": \"\",\n",
    "  \"s3_bucket\": MY_BUCKET_NAME, # Fill in with your bucket\n",
    "  \"s3_key\": \"test/bicycle_s_000513.png\"\n",
    "}\n",
    "```\n",
    "\n",
    "Using these fields, your functions can read and write the necessary data to execute your workflow. Let's start with the first function. Your first Lambda function will copy an object from S3, base64 encode it, and then return it to the step function as `image_data` in an event.\n",
    "\n",
    "Go to the Lambda dashboard and create a new Lambda function with a descriptive name like \"serializeImageData\" and select thr 'Python 3.8' runtime. Add the same permissions as the SageMaker role you created earlier. (Reminder: you do this in the Configuration tab under \"Permissions\"). Once you're ready, use the starter code below to craft your Lambda handler:\n",
    "\n",
    "```python\n",
    "import json\n",
    "import boto3\n",
    "import base64\n",
    "\n",
    "s3 = boto3.client('s3')\n",
    "\n",
    "def lambda_handler(event, context):\n",
    "    \"\"\"A function to serialize target data from S3\"\"\"\n",
    "    \n",
    "    # Get the s3 address from the Step Function event input\n",
    "    key = ## TODO: fill in\n",
    "    bucket = ## TODO: fill in\n",
    "    \n",
    "    # Download the data from s3 to /tmp/image.png\n",
    "    ## TODO: fill in\n",
    "    \n",
    "    # We read the data from a file\n",
    "    with open(\"/tmp/image.png\", \"rb\") as f:\n",
    "        image_data = base64.b64encode(f.read())\n",
    "\n",
    "    # Pass the data back to the Step Function\n",
    "    print(\"Event:\", event.keys())\n",
    "    return {\n",
    "        'statusCode': 200,\n",
    "        'body': {\n",
    "            \"image_data\": image_data,\n",
    "            \"s3_bucket\": bucket,\n",
    "            \"s3_key\": key,\n",
    "            \"inferences\": []\n",
    "        }\n",
    "    }\n",
    "```\n",
    "\n",
    "The next function is responsible for the classification part - we're going to take the image output from the previous function, decode it, and then pass inferences back to the the Step Function.\n",
    "\n",
    "Because this Lambda will have runtime dependencies (i.e. the SageMaker SDK) you'll need to package them in your function. *Key reading:* https://docs.aws.amazon.com/lambda/latest/dg/python-package-create.html#python-package-create-with-dependency\n",
    "\n",
    "Create a new Lambda function with the same rights and a descriptive name, then fill in the starter code below for your classifier Lambda.\n",
    "\n",
    "```python\n",
    "import json\n",
    "import sagemaker\n",
    "import base64\n",
    "from sagemaker.serializers import IdentitySerializer\n",
    "\n",
    "# Fill this in with the name of your deployed model\n",
    "ENDPOINT = ## TODO: fill in\n",
    "\n",
    "def lambda_handler(event, context):\n",
    "\n",
    "    # Decode the image data\n",
    "    image = base64.b64decode(## TODO: fill in)\n",
    "\n",
    "    # Instantiate a Predictor\n",
    "    predictor = ## TODO: fill in\n",
    "\n",
    "    # For this model the IdentitySerializer needs to be \"image/png\"\n",
    "    predictor.serializer = IdentitySerializer(\"image/png\")\n",
    "    \n",
    "    # Make a prediction:\n",
    "    inferences = ## TODO: fill in\n",
    "    \n",
    "    # We return the data back to the Step Function    \n",
    "    event[\"inferences\"] = inferences.decode('utf-8')\n",
    "    return {\n",
    "        'statusCode': 200,\n",
    "        'body': json.dumps(event)\n",
    "    }\n",
    "```\n",
    "\n",
    "Finally, we need to filter low-confidence inferences. Define a threshold between 1.00 and 0.000 for your model: what is reasonble for you? If the model predicts at `.70` for it's highest confidence label, do we want to pass that inference along to downstream systems? Make one last Lambda function and tee up the same permissions:\n",
    "\n",
    "```python\n",
    "import json\n",
    "\n",
    "\n",
    "THRESHOLD = .93\n",
    "\n",
    "\n",
    "def lambda_handler(event, context):\n",
    "    \n",
    "    # Grab the inferences from the event\n",
    "    inferences = ## TODO: fill in\n",
    "    \n",
    "    # Check if any values in our inferences are above THRESHOLD\n",
    "    meets_threshold = ## TODO: fill in\n",
    "    \n",
    "    # If our threshold is met, pass our data back out of the\n",
    "    # Step Function, else, end the Step Function with an error\n",
    "    if meets_threshold:\n",
    "        pass\n",
    "    else:\n",
    "        raise(\"THRESHOLD_CONFIDENCE_NOT_MET\")\n",
    "\n",
    "    return {\n",
    "        'statusCode': 200,\n",
    "        'body': json.dumps(event)\n",
    "    }\n",
    "```\n",
    "Once you have tested the lambda functions, save the code for each lambda function in a python script called 'lambda.py'.\n",
    "\n",
    "With your lambdas in place, you can use the Step Functions visual editor to construct a workflow that chains them together. In the Step Functions console you'll have the option to author a Standard step function *Visually*.\n",
    "\n",
    "When the visual editor opens, you'll have many options to add transitions in your workflow. We're going to keep it simple and have just one: to invoke Lambda functions. Add three of them chained together. For each one, you'll be able to select the Lambda functions you just created in the proper order, filter inputs and outputs, and give them descriptive names.\n",
    "\n",
    "Make sure that you:\n",
    "\n",
    "1. Are properly filtering the inputs and outputs of your invokations (e.g. `$.body`)\n",
    "2. Take care to remove the error handling from the last function - it's supposed to \"fail loudly\" for your operations colleagues!\n",
    "\n",
    "Take a screenshot of your working step function in action and export the step function as JSON for your submission package."
   ]
  },
  {
   "cell_type": "markdown",
   "metadata": {},
   "source": [
    "\n",
    "Great! Now you can use the files in `./test` as test files for our workflow. Depending on our threshold, our workflow should reliably pass predictions about images from `./test` on to downstream systems, while erroring out for inferences below our confidence threshold!\n",
    "\n",
    "### Testing and Evaluation\n",
    "\n",
    "Do several step function invokations using data from the `./test` folder. This process should give you confidence that the workflow both *succeeds* AND *fails* as expected. In addition, SageMaker Model Monitor will generate recordings of your data and inferences which we can visualize.\n",
    "\n",
    "Here's a function that can help you generate test inputs for your invokations:"
   ]
  },
  {
   "cell_type": "code",
   "execution_count": null,
   "metadata": {},
   "outputs": [],
   "source": [
    "import random\n",
    "import boto3\n",
    "import json\n",
    "\n",
    "\n",
    "def generate_test_case():\n",
    "    # Setup s3 in boto3\n",
    "    s3 = boto3.resource('s3')\n",
    "    \n",
    "    # Randomly pick from sfn or test folders in our bucket\n",
    "    objects = s3.Bucket(bucket).objects.filter(\"test\")\n",
    "    \n",
    "    # Grab any random object key from that folder!\n",
    "    obj = random.choice([x.key for x in objects])\n",
    "    \n",
    "    return json.dumps({\n",
    "        \"image_data\": \"\",\n",
    "        \"s3_bucket\": bucket,\n",
    "        \"s3_key\": obj\n",
    "    })\n",
    "generate_test_case()"
   ]
  },
  {
   "cell_type": "markdown",
   "metadata": {},
   "source": [
    "In the Step Function dashboard for your new function, you can create new executions and copy in the generated test cases. Do several executions so that you can generate data you can evaluate and visualize.\n",
    "\n",
    "Once you've done several executions, let's visualize the record of our inferences. Pull in the JSONLines data from your inferences like so:"
   ]
  },
  {
   "cell_type": "code",
   "execution_count": null,
   "metadata": {},
   "outputs": [],
   "source": [
    "from sagemaker.s3 import S3Downloader\n",
    "\n",
    "# In S3 your data will be saved to a datetime-aware path\n",
    "# Find a path related to a datetime you're interested in\n",
    "data_path = ## TODO: fill in the path to your captured data\n",
    "\n",
    "S3Downloader.download(data_path, \"captured_data\")\n",
    "\n",
    "# Feel free to repeat this multiple times and pull in more data"
   ]
  },
  {
   "cell_type": "markdown",
   "metadata": {},
   "source": [
    "The data are in JSONLines format, where multiple valid JSON objects are stacked on top of eachother in a single `jsonl` file. We'll import an open-source library, `jsonlines` that was purpose built for parsing this format."
   ]
  },
  {
   "cell_type": "code",
   "execution_count": null,
   "metadata": {},
   "outputs": [],
   "source": [
    "!pip install jsonlines\n",
    "import jsonlines"
   ]
  },
  {
   "cell_type": "markdown",
   "metadata": {},
   "source": [
    "Now we can extract the data from each of the source files:"
   ]
  },
  {
   "cell_type": "code",
   "execution_count": null,
   "metadata": {},
   "outputs": [],
   "source": [
    "import os\n",
    "\n",
    "# List the file names we downloaded\n",
    "file_handles = os.listdir(\"./captured_data\")\n",
    "\n",
    "# Dump all the data into an array\n",
    "json_data = []\n",
    "for jsonl in file_handles:\n",
    "    with jsonlines.open(f\"./captured_data/{jsonl}\") as f:\n",
    "        json_data.append(f.read())"
   ]
  },
  {
   "cell_type": "markdown",
   "metadata": {},
   "source": [
    "The data should now be a list of dictionaries, with significant nesting. We'll give you an example of some code that grabs data out of the objects and visualizes it:"
   ]
  },
  {
   "cell_type": "code",
   "execution_count": null,
   "metadata": {},
   "outputs": [],
   "source": [
    "# Define how we'll get our data\n",
    "def simple_getter(obj):\n",
    "    inferences = obj[\"captureData\"][\"endpointOutput\"][\"data\"]\n",
    "    timestamp = obj[\"eventMetadata\"][\"inferenceTime\"]\n",
    "    return json.loads(inferences), timestamp\n",
    "\n",
    "simple_getter(json_data[0])"
   ]
  },
  {
   "cell_type": "markdown",
   "metadata": {},
   "source": [
    "Finally, here's an example of a visualization you can build with this data. In this last part, you will take some time and build your own - the captured data has the input images, the resulting inferences, and the timestamps."
   ]
  },
  {
   "cell_type": "code",
   "execution_count": null,
   "metadata": {},
   "outputs": [],
   "source": [
    "# Populate the data for the x and y axis\n",
    "x = []\n",
    "y = []\n",
    "for obj in json_data:\n",
    "    inference, timestamp = simple_getter(obj)\n",
    "    \n",
    "    y.append(max(inference))\n",
    "    x.append(timestamp)\n",
    "\n",
    "# Todo: here is an visualization example, take some time to build another visual that helps monitor the result\n",
    "# Plot the data\n",
    "plt.scatter(x, y, c=['r' if k<.94 else 'b' for k in y ])\n",
    "plt.axhline(y=0.94, color='g', linestyle='--')\n",
    "plt.ylim(bottom=.88)\n",
    "\n",
    "# Add labels\n",
    "plt.ylabel(\"Confidence\")\n",
    "plt.suptitle(\"Observed Recent Inferences\", size=14)\n",
    "plt.title(\"Pictured with confidence threshold for production use\", size=10)\n",
    "\n",
    "# Give it some pizzaz!\n",
    "plt.style.use(\"Solarize_Light2\")\n",
    "plt.gcf().autofmt_xdate()"
   ]
  },
  {
   "cell_type": "markdown",
   "metadata": {},
   "source": [
    "### Todo: build your own visualization\n"
   ]
  },
  {
   "cell_type": "markdown",
   "metadata": {},
   "source": [
    "### Congratulations!\n",
    "\n",
    "You've reached the end of the project. In this project you created an event-drivent ML workflow that can be incorporated into the Scones Unlimited production architecture. You used the SageMaker Estimator API to deploy your SageMaker Model and Endpoint, and you used AWS Lambda and Step Functions to orchestrate your ML workflow. Using SageMaker Model Monitor, you instrumented and observed your Endpoint, and at the end of the project you built a visualization to help stakeholders understand the performance of the Endpoint over time. If you're up for it, you can even go further with these stretch goals:\n",
    "\n",
    "* Extend your workflow to incorporate more classes: the CIFAR dataset includes other vehicles that Scones Unlimited can identify with this model.\n",
    "* Modify your event driven workflow: can you rewrite your Lambda functions so that the workflow can process multiple image inputs in parallel? Can the Step Function \"fan out\" to accomodate this new workflow?\n",
    "* Consider the test data generator we provided for you. Can we use it to create a \"dummy data\" generator, to simulate a continuous stream of input data? Or a big paralell load of data?\n",
    "* What if we want to get notified every time our step function errors out? Can we use the Step Functions visual editor in conjunction with a service like SNS to accomplish this? Try it out!\n",
    "\n",
    "\n"
   ]
  }
 ],
 "metadata": {
  "instance_type": "ml.t3.medium",
  "kernelspec": {
   "display_name": "Python 3 (Data Science)",
   "language": "python",
   "name": "python3__SAGEMAKER_INTERNAL__arn:aws:sagemaker:us-east-1:081325390199:image/datascience-1.0"
  },
  "language_info": {
   "codemirror_mode": {
    "name": "ipython",
    "version": 3
   },
   "file_extension": ".py",
   "mimetype": "text/x-python",
   "name": "python",
   "nbconvert_exporter": "python",
   "pygments_lexer": "ipython3",
   "version": "3.7.10"
  }
 },
 "nbformat": 4,
 "nbformat_minor": 4
}
